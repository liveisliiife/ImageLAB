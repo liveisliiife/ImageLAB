{
  "nbformat": 4,
  "nbformat_minor": 0,
  "metadata": {
    "colab": {
      "private_outputs": true,
      "provenance": []
    },
    "kernelspec": {
      "name": "python3",
      "display_name": "Python 3"
    },
    "language_info": {
      "name": "python"
    },
    "accelerator": "GPU"
  },
  "cells": [
    {
      "cell_type": "markdown",
      "metadata": {
        "id": "icFcPclX-LZV"
      },
      "source": [
        "## Check GPU"
      ]
    },
    {
      "cell_type": "code",
      "metadata": {
        "id": "e5LvQ9AWLyTA"
      },
      "source": [
        "!git clone https://github.com/dvschultz/AttnGAN"
      ],
      "execution_count": null,
      "outputs": []
    },
    {
      "cell_type": "markdown",
      "metadata": {
        "id": "aIBY7ZFD-GXf"
      },
      "source": [
        "## Install pre-trained model and data"
      ]
    },
    {
      "cell_type": "code",
      "metadata": {
        "id": "eoepDbyEL_GY"
      },
      "source": [
        "# attn-gan bird model does not work , only coco\n",
        "!gdown --id 1lqNG75suOuR_8gjoEPYNp8VyT_ufPPig"
      ],
      "execution_count": null,
      "outputs": []
    },
    {
      "cell_type": "code",
      "metadata": {
        "id": "Y6bInWMmMPPT"
      },
      "source": [
        "# download all data for attn-gan coco model\n",
        "\n",
        "#download pre-trained model\n",
        "!gdown --id 1i9Xkg9nU74RAvkcqKE-rJYhjvzKAMnCi -O /content/AttnGAN/models/coco_AttnGAN2.pth\n",
        "\n",
        "#download test/train captions\n",
        "!gdown --id 1rSnbIGNDGZeHlsUlLdahj0RJ9oo6lgH9 -O /content/AttnGAN/data/coco.zip\n",
        "\n",
        "%cd /content/AttnGAN/data/\n",
        "!unzip coco.zip\n",
        "!rm coco.zip\n",
        "!rm -rf /content/AttnGAN/data/__MACOSX\n",
        "%cd coco\n",
        "!unzip /content/AttnGAN/data/coco/val2014-text.zip\n",
        "!mv /content/AttnGAN/data/coco/val2014 /content/AttnGAN/data/coco/text\n",
        "\n",
        "#download encoder\n",
        "!gdown --id 1zIrXCE9F6yfbEJIbNP5-YrEe2pZcPSGJ -O /content/AttnGAN/DAMSMencoders/coco.zip\n",
        "%cd /content/AttnGAN/DAMSMencoders\n",
        "!unzip coco.zip\n",
        "!rm coco.zip\n",
        "\n",
        "#download font !wget https://github.com/opensourcedesign/fonts/blob/master/gnu-freefont_freemono/FreeMono.ttf -P /content/\n",
        "!wget https://github.com/opensourcedesign/fonts/blob/master/gnu-freefont_freemono/FreeMono.ttf?raw=true -P /content/\n",
        "!mv /content/FreeMono.ttf?raw=true /content/FreeMono.ttf\n",
        "\n",
        "#go home\n",
        "%cd /content/AttnGAN/code"
      ],
      "execution_count": null,
      "outputs": []
    },
    {
      "cell_type": "code",
      "metadata": {
        "id": "GZFahRPI1-Uu"
      },
      "source": [
        "# Below this line write all of the captions. Put each caption on a new line.\n",
        "%%writefile /content/AttnGAN/data/coco/example_filenames.txt\n",
        "example_captions"
      ],
      "execution_count": null,
      "outputs": []
    },
    {
      "cell_type": "markdown",
      "metadata": {
        "id": "EoywXcVY9oFV"
      },
      "source": [
        "## Create captions\n",
        "Now we can write some captions. Add each caption on a new line below"
      ]
    },
    {
      "cell_type": "code",
      "metadata": {
        "id": "YchyNrrK0mAz"
      },
      "source": [
        "# Below this line write all of the captions. Put each caption on a new line.\n",
        "%%writefile /content/AttnGAN/data/coco/example_captions.txt\n",
        "A man riding a bicycle on the street.\n",
        "A group of people sitting at a dining table.\n",
        "A dog lying on a couch in a living room.\n",
        "a photo of a homemade swirly pasta with broccoli carrots and onions.\n",
        "a photo of a pizza with broccoli and onions.\n",
        "A plate of pasta with vegetables on a wooden table.\n",
        "A bowl of soup with bread on the side.\n",
        "A close-up of a hamburger with lettuce and tomato.\n",
        "A slice of pizza on a white plate.\n",
        "A table full of various dishes and drinks at a restaurant.\n",
        "a photo of a Turkish tea glass on a wooden table.\n",
        "a street view from Istanbul with historical buildings.\n",
        "a Turkish breakfast with cheese, olives, and tomatoes.\n",
        "a photo of a Turkish tea glass on a wooden table.\n",
        "a traditional Turkish breakfast with simit, cheese, olives, and tomatoes.\n",
        "a mosque in Istanbul under a cloudy sky.\n",
        "a street view in Istanbul with a tram and historical buildings.\n",
        "a delicious Turkish kebab served with rice and salad.\n",
        "a close-up of a Turkish doner kebab in pita bread.\n",
        "a colorful traditional Anatolian kilim carpet on the floor.\n",
        "a Turkish bazaar full of spices, lamps, and carpets."
      ],
      "execution_count": null,
      "outputs": []
    },
    {
      "cell_type": "code",
      "source": [
        "fixed_config = \"\"\"\n",
        "from __future__ import division\n",
        "from __future__ import print_function\n",
        "\n",
        "import os.path as osp\n",
        "import numpy as np\n",
        "from easydict import EasyDict as edict\n",
        "\n",
        "__C = edict()\n",
        "cfg = __C\n",
        "\n",
        "# Dataset name: flowers, birds\n",
        "__C.DATASET_NAME = 'birds'\n",
        "__C.CONFIG_NAME = ''\n",
        "__C.DATA_DIR = ''\n",
        "__C.GPU_ID = 0\n",
        "__C.CUDA = True\n",
        "__C.WORKERS = 6\n",
        "\n",
        "__C.RNN_TYPE = 'LSTM'   # 'GRU'\n",
        "__C.B_VALIDATION = False\n",
        "\n",
        "__C.TREE = edict()\n",
        "__C.TREE.BRANCH_NUM = 3\n",
        "__C.TREE.BASE_SIZE = 64\n",
        "\n",
        "# Training options\n",
        "__C.TRAIN = edict()\n",
        "__C.TRAIN.BATCH_SIZE = 64\n",
        "__C.TRAIN.MAX_EPOCH = 600\n",
        "__C.TRAIN.SNAPSHOT_INTERVAL = 2000\n",
        "__C.TRAIN.DISCRIMINATOR_LR = 2e-4\n",
        "__C.TRAIN.GENERATOR_LR = 2e-4\n",
        "__C.TRAIN.ENCODER_LR = 2e-4\n",
        "__C.TRAIN.RNN_GRAD_CLIP = 0.25\n",
        "__C.TRAIN.FLAG = True\n",
        "__C.TRAIN.NET_E = ''\n",
        "__C.TRAIN.NET_G = ''\n",
        "__C.TRAIN.B_NET_D = True\n",
        "\n",
        "__C.TRAIN.SMOOTH = edict()\n",
        "__C.TRAIN.SMOOTH.GAMMA1 = 5.0\n",
        "__C.TRAIN.SMOOTH.GAMMA3 = 10.0\n",
        "__C.TRAIN.SMOOTH.GAMMA2 = 5.0\n",
        "__C.TRAIN.SMOOTH.LAMBDA = 1.0\n",
        "\n",
        "# Modal options\n",
        "__C.GAN = edict()\n",
        "__C.GAN.DF_DIM = 64\n",
        "__C.GAN.GF_DIM = 128\n",
        "__C.GAN.Z_DIM = 100\n",
        "__C.GAN.CONDITION_DIM = 100\n",
        "__C.GAN.R_NUM = 2\n",
        "__C.GAN.B_ATTENTION = True\n",
        "__C.GAN.B_DCGAN = False\n",
        "\n",
        "__C.TEXT = edict()\n",
        "__C.TEXT.CAPTIONS_PER_IMAGE = 10\n",
        "__C.TEXT.EMBEDDING_DIM = 256\n",
        "__C.TEXT.WORDS_NUM = 18\n",
        "\n",
        "def _merge_a_into_b(a, b):\n",
        "    if type(a) is not edict:\n",
        "        return\n",
        "    for k, v in a.items():\n",
        "        if not k in b:\n",
        "            raise KeyError('{} is not a valid config key'.format(k))\n",
        "        old_type = type(b[k])\n",
        "        if old_type is not type(v):\n",
        "            if isinstance(b[k], np.ndarray):\n",
        "                v = np.array(v, dtype=b[k].dtype)\n",
        "            else:\n",
        "                raise ValueError(('Type mismatch ({} vs. {}) '\n",
        "                                  'for config key: {}').format(type(b[k]), type(v), k))\n",
        "        if type(v) is edict:\n",
        "            try:\n",
        "                _merge_a_into_b(a[k], b[k])\n",
        "            except:\n",
        "                print('Error under config key: {}'.format(k))\n",
        "                raise\n",
        "        else:\n",
        "            b[k] = v\n",
        "\n",
        "def cfg_from_file(filename):\n",
        "    import yaml\n",
        "    from yaml import FullLoader\n",
        "    with open(filename, 'r') as f:\n",
        "        yaml_cfg = edict(yaml.load(f, Loader=FullLoader))\n",
        "    _merge_a_into_b(yaml_cfg, __C)\n",
        "\"\"\"\n",
        "\n",
        "with open(\"/content/AttnGAN/code/miscc/config.py\", \"w\") as f:\n",
        "    f.write(fixed_config.strip())\n"
      ],
      "metadata": {
        "id": "IVf94eWEGL2o"
      },
      "execution_count": null,
      "outputs": []
    },
    {
      "cell_type": "code",
      "source": [
        "main_path = \"/content/AttnGAN/code/main.py\"\n",
        "\n",
        "with open(main_path, \"r\") as f:\n",
        "    lines = f.readlines()\n",
        "\n",
        "with open(main_path, \"w\") as f:\n",
        "    for line in lines:\n",
        "        if \"transforms.Scale(\" in line:\n",
        "            f.write(line.replace(\"transforms.Scale\", \"transforms.Resize\"))\n",
        "        else:\n",
        "            f.write(line)\n"
      ],
      "metadata": {
        "id": "rV4mljUqGisX"
      },
      "execution_count": null,
      "outputs": []
    },
    {
      "cell_type": "markdown",
      "metadata": {
        "id": "0iZTvNBj-ffm"
      },
      "source": [
        "## Run"
      ]
    },
    {
      "cell_type": "code",
      "metadata": {
        "id": "sO5Fn75kMeK5"
      },
      "source": [
        "!python /content/AttnGAN/code/main.py --cfg /content/AttnGAN/code/cfg/eval_coco.yml --gpu 0"
      ],
      "execution_count": null,
      "outputs": []
    },
    {
      "cell_type": "code",
      "source": [
        "from PIL import Image\n",
        "import matplotlib.pyplot as plt\n",
        "\n",
        "\n",
        "img_path = \"/content/AttnGAN/models/coco_AttnGAN2/example_captions/0_a-photo-of-a-homemade-swirly-pasta-with-broccoli-carrots-and-onions._g2.png\"\n",
        "\n",
        "\n",
        "image = Image.open(img_path)\n",
        "plt.imshow(image)\n",
        "plt.axis('off')\n",
        "plt.show()\n"
      ],
      "metadata": {
        "id": "cEolTk0X3TA2"
      },
      "execution_count": null,
      "outputs": []
    },
    {
      "cell_type": "code",
      "source": [
        "import os\n",
        "from PIL import Image\n",
        "import matplotlib.pyplot as plt\n",
        "\n",
        "# Klasör yolu\n",
        "folder_path = \"/content/AttnGAN/models/coco_AttnGAN2/example_captions\"\n",
        "\n",
        "# Görsel dosyalarının tam yollarını ve adlarını al\n",
        "image_files = [f for f in os.listdir(folder_path) if f.lower().endswith(('.png', '.jpg', '.jpeg'))]\n",
        "image_paths = [os.path.join(folder_path, f) for f in image_files]\n",
        "\n",
        "# Görsel sayısı kadar alt alta subplot oluştur\n",
        "fig, axs = plt.subplots(len(image_paths), 1, figsize=(8, len(image_paths) * 4))\n",
        "\n",
        "# Tek bir resim varsa axs dizisi olmuyor, onu listeye çevir\n",
        "if len(image_paths) == 1:\n",
        "    axs = [axs]\n",
        "\n",
        "# Her resmi ve başlığını subplot'a ekle\n",
        "for ax, img_path, img_name in zip(axs, image_paths, image_files):\n",
        "    image = Image.open(img_path)\n",
        "    ax.imshow(image)\n",
        "    ax.set_title(img_name, fontsize=12)\n",
        "    ax.axis('off')\n",
        "\n",
        "plt.tight_layout()\n",
        "plt.show()\n"
      ],
      "metadata": {
        "id": "yQooM2nMHpsa"
      },
      "execution_count": null,
      "outputs": []
    },
    {
      "cell_type": "code",
      "source": [],
      "metadata": {
        "id": "1YvioZR_3XtU"
      },
      "execution_count": null,
      "outputs": []
    }
  ]
}